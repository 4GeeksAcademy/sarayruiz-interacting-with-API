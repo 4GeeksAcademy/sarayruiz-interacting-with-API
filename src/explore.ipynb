{
    "cells": [
        {
            "cell_type": "markdown",
            "metadata": {},
            "source": [
                "# Explore here"
            ]
        },
        {
            "cell_type": "code",
            "execution_count": 42,
            "metadata": {},
            "outputs": [
                {
                    "data": {
                        "text/plain": [
                            "True"
                        ]
                    },
                    "execution_count": 42,
                    "metadata": {},
                    "output_type": "execute_result"
                }
            ],
            "source": [
                "import os\n",
                "import requests\n",
                "import pandas as pd\n",
                "import matplotlib.pyplot as plt\n",
                "from dotenv import load_dotenv\n",
                "import spotipy\n",
                "from spotipy.oauth2 import SpotifyClientCredentials\n",
                "import seaborn as sns\n",
                "\n",
                "# load the .env file variables\n",
                "load_dotenv()\n",
                "\n"
            ]
        },
        {
            "cell_type": "code",
            "execution_count": 43,
            "metadata": {},
            "outputs": [],
            "source": [
                "client_id = os.environ.get(\"CLIENT_ID\")\n",
                "client_secret = os.environ.get(\"CLIENT_SECRET\")\n",
                "\n"
            ]
        },
        {
            "cell_type": "code",
            "execution_count": 57,
            "metadata": {},
            "outputs": [],
            "source": [
                "auth_manager = SpotifyClientCredentials(client_id=client_id, client_secret=client_secret)\n",
                "spotify = spotipy.Spotify(auth_manager=auth_manager)\n"
            ]
        },
        {
            "cell_type": "code",
            "execution_count": 64,
            "metadata": {},
            "outputs": [
                {
                    "name": "stdout",
                    "output_type": "stream",
                    "text": [
                        "Soldadito marinero\n",
                        "Por la boca vive el pez\n",
                        "Antes de que cuente diez\n",
                        "La casa por el tejado\n",
                        "Me equivocaría otra vez\n",
                        "Acabo de llegar\n",
                        "Me acordé de ti\n",
                        "Camiseta de Rokanrol\n",
                        "Entre la espada y la pared\n",
                        "Los cuervos se lo pasan bien\n"
                    ]
                }
            ],
            "source": [
                "birdy_uri = 'spotify:artist:1tZ99AnqyjgrmPwLfGU5eo'\n",
                "spotify\n",
                "results = spotify.artist_top_tracks(birdy_uri)\n",
                "tracks = results['tracks']\n",
                "for track in tracks:\n",
                "    print(track['name'])\n"
            ]
        },
        {
            "cell_type": "code",
            "execution_count": 63,
            "metadata": {},
            "outputs": [
                {
                    "data": {
                        "text/html": [
                            "<div>\n",
                            "<style scoped>\n",
                            "    .dataframe tbody tr th:only-of-type {\n",
                            "        vertical-align: middle;\n",
                            "    }\n",
                            "\n",
                            "    .dataframe tbody tr th {\n",
                            "        vertical-align: top;\n",
                            "    }\n",
                            "\n",
                            "    .dataframe thead th {\n",
                            "        text-align: right;\n",
                            "    }\n",
                            "</style>\n",
                            "<table border=\"1\" class=\"dataframe\">\n",
                            "  <thead>\n",
                            "    <tr style=\"text-align: right;\">\n",
                            "      <th></th>\n",
                            "      <th>name</th>\n",
                            "      <th>duration_min</th>\n",
                            "      <th>popularity</th>\n",
                            "    </tr>\n",
                            "  </thead>\n",
                            "  <tbody>\n",
                            "    <tr>\n",
                            "      <th>0</th>\n",
                            "      <td>Soldadito marinero</td>\n",
                            "      <td>4.239550</td>\n",
                            "      <td>69</td>\n",
                            "    </tr>\n",
                            "    <tr>\n",
                            "      <th>1</th>\n",
                            "      <td>Por la boca vive el pez</td>\n",
                            "      <td>4.489550</td>\n",
                            "      <td>68</td>\n",
                            "    </tr>\n",
                            "    <tr>\n",
                            "      <th>2</th>\n",
                            "      <td>Antes de que cuente diez</td>\n",
                            "      <td>4.750667</td>\n",
                            "      <td>66</td>\n",
                            "    </tr>\n",
                            "    <tr>\n",
                            "      <th>3</th>\n",
                            "      <td>La casa por el tejado</td>\n",
                            "      <td>4.462667</td>\n",
                            "      <td>66</td>\n",
                            "    </tr>\n",
                            "    <tr>\n",
                            "      <th>4</th>\n",
                            "      <td>Me equivocaría otra vez</td>\n",
                            "      <td>5.104000</td>\n",
                            "      <td>65</td>\n",
                            "    </tr>\n",
                            "    <tr>\n",
                            "      <th>5</th>\n",
                            "      <td>Acabo de llegar</td>\n",
                            "      <td>6.251983</td>\n",
                            "      <td>62</td>\n",
                            "    </tr>\n",
                            "    <tr>\n",
                            "      <th>6</th>\n",
                            "      <td>Me acordé de ti</td>\n",
                            "      <td>4.086883</td>\n",
                            "      <td>60</td>\n",
                            "    </tr>\n",
                            "    <tr>\n",
                            "      <th>7</th>\n",
                            "      <td>Camiseta de Rokanrol</td>\n",
                            "      <td>3.830533</td>\n",
                            "      <td>59</td>\n",
                            "    </tr>\n",
                            "    <tr>\n",
                            "      <th>8</th>\n",
                            "      <td>Entre la espada y la pared</td>\n",
                            "      <td>4.870667</td>\n",
                            "      <td>57</td>\n",
                            "    </tr>\n",
                            "    <tr>\n",
                            "      <th>9</th>\n",
                            "      <td>Los cuervos se lo pasan bien</td>\n",
                            "      <td>4.417767</td>\n",
                            "      <td>58</td>\n",
                            "    </tr>\n",
                            "  </tbody>\n",
                            "</table>\n",
                            "</div>"
                        ],
                        "text/plain": [
                            "                           name  duration_min  popularity\n",
                            "0            Soldadito marinero      4.239550          69\n",
                            "1       Por la boca vive el pez      4.489550          68\n",
                            "2      Antes de que cuente diez      4.750667          66\n",
                            "3         La casa por el tejado      4.462667          66\n",
                            "4       Me equivocaría otra vez      5.104000          65\n",
                            "5               Acabo de llegar      6.251983          62\n",
                            "6               Me acordé de ti      4.086883          60\n",
                            "7          Camiseta de Rokanrol      3.830533          59\n",
                            "8    Entre la espada y la pared      4.870667          57\n",
                            "9  Los cuervos se lo pasan bien      4.417767          58"
                        ]
                    },
                    "execution_count": 63,
                    "metadata": {},
                    "output_type": "execute_result"
                }
            ],
            "source": [
                "df= pd.DataFrame(tracks)\n",
                "df[\"duration_min\"] = df[\"duration_ms\"] / 60000\n",
                "df[\"duration_min\"].round(2)\n",
                "\n",
                "df[[\"name\" , \"duration_min\", \"popularity\"]]"
            ]
        },
        {
            "cell_type": "code",
            "execution_count": null,
            "metadata": {},
            "outputs": [
                {
                    "data": {
                        "text/html": [
                            "<div>\n",
                            "<style scoped>\n",
                            "    .dataframe tbody tr th:only-of-type {\n",
                            "        vertical-align: middle;\n",
                            "    }\n",
                            "\n",
                            "    .dataframe tbody tr th {\n",
                            "        vertical-align: top;\n",
                            "    }\n",
                            "\n",
                            "    .dataframe thead th {\n",
                            "        text-align: right;\n",
                            "    }\n",
                            "</style>\n",
                            "<table border=\"1\" class=\"dataframe\">\n",
                            "  <thead>\n",
                            "    <tr style=\"text-align: right;\">\n",
                            "      <th></th>\n",
                            "      <th>name</th>\n",
                            "      <th>duration_min</th>\n",
                            "      <th>popularity</th>\n",
                            "    </tr>\n",
                            "  </thead>\n",
                            "  <tbody>\n",
                            "    <tr>\n",
                            "      <th>0</th>\n",
                            "      <td>Soldadito marinero</td>\n",
                            "      <td>4.239550</td>\n",
                            "      <td>69</td>\n",
                            "    </tr>\n",
                            "    <tr>\n",
                            "      <th>1</th>\n",
                            "      <td>Por la boca vive el pez</td>\n",
                            "      <td>4.489550</td>\n",
                            "      <td>68</td>\n",
                            "    </tr>\n",
                            "    <tr>\n",
                            "      <th>2</th>\n",
                            "      <td>Antes de que cuente diez</td>\n",
                            "      <td>4.750667</td>\n",
                            "      <td>66</td>\n",
                            "    </tr>\n",
                            "    <tr>\n",
                            "      <th>3</th>\n",
                            "      <td>La casa por el tejado</td>\n",
                            "      <td>4.462667</td>\n",
                            "      <td>66</td>\n",
                            "    </tr>\n",
                            "    <tr>\n",
                            "      <th>4</th>\n",
                            "      <td>Me equivocaría otra vez</td>\n",
                            "      <td>5.104000</td>\n",
                            "      <td>65</td>\n",
                            "    </tr>\n",
                            "    <tr>\n",
                            "      <th>5</th>\n",
                            "      <td>Acabo de llegar</td>\n",
                            "      <td>6.251983</td>\n",
                            "      <td>62</td>\n",
                            "    </tr>\n",
                            "    <tr>\n",
                            "      <th>6</th>\n",
                            "      <td>Me acordé de ti</td>\n",
                            "      <td>4.086883</td>\n",
                            "      <td>60</td>\n",
                            "    </tr>\n",
                            "    <tr>\n",
                            "      <th>7</th>\n",
                            "      <td>Camiseta de Rokanrol</td>\n",
                            "      <td>3.830533</td>\n",
                            "      <td>59</td>\n",
                            "    </tr>\n",
                            "    <tr>\n",
                            "      <th>8</th>\n",
                            "      <td>Entre la espada y la pared</td>\n",
                            "      <td>4.870667</td>\n",
                            "      <td>57</td>\n",
                            "    </tr>\n",
                            "    <tr>\n",
                            "      <th>9</th>\n",
                            "      <td>Los cuervos se lo pasan bien</td>\n",
                            "      <td>4.417767</td>\n",
                            "      <td>58</td>\n",
                            "    </tr>\n",
                            "  </tbody>\n",
                            "</table>\n",
                            "</div>"
                        ],
                        "text/plain": [
                            "                           name  duration_min  popularity\n",
                            "0            Soldadito marinero      4.239550          69\n",
                            "1       Por la boca vive el pez      4.489550          68\n",
                            "2      Antes de que cuente diez      4.750667          66\n",
                            "3         La casa por el tejado      4.462667          66\n",
                            "4       Me equivocaría otra vez      5.104000          65\n",
                            "5               Acabo de llegar      6.251983          62\n",
                            "6               Me acordé de ti      4.086883          60\n",
                            "7          Camiseta de Rokanrol      3.830533          59\n",
                            "8    Entre la espada y la pared      4.870667          57\n",
                            "9  Los cuervos se lo pasan bien      4.417767          58"
                        ]
                    },
                    "execution_count": 62,
                    "metadata": {},
                    "output_type": "execute_result"
                }
            ],
            "source": [
                "plt.plot"
            ]
        }
    ],
    "metadata": {
        "kernelspec": {
            "display_name": "Python 3",
            "language": "python",
            "name": "python3"
        },
        "language_info": {
            "codemirror_mode": {
                "name": "ipython",
                "version": 3
            },
            "file_extension": ".py",
            "mimetype": "text/x-python",
            "name": "python",
            "nbconvert_exporter": "python",
            "pygments_lexer": "ipython3",
            "version": "3.11.4"
        },
        "orig_nbformat": 4
    },
    "nbformat": 4,
    "nbformat_minor": 2
}
